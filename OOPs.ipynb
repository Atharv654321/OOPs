{
 "cells": [
  {
   "cell_type": "markdown",
   "id": "ca18f7db-1bc0-49be-bc9e-fc17a17d46d5",
   "metadata": {},
   "source": [
    "1. What is Object-Oriented Programming (OOP)?\n",
    "-Object-Oriented Programming (OOP) is a programming paradigm that structures software design around objects, which encapsulate both data and the functions (methods) that operate on that data.\n",
    "\n",
    "2. What is a class in OOP?\n",
    "-In Object-Oriented Programming (OOP), a class is a blueprint or template used to create objects that share common attributes (data) and methods (functions or behaviors). The class specifies what properties and behaviors all its objects will have but does not represent any particular object itself—each individual object (or instance) is created from that class definition.\n",
    "\n",
    "3. What is an object in OOP?\n",
    "-In Object-Oriented Programming (OOP), an object is an instance of a class.\n",
    "A class acts as a blueprint, and an object is a concrete entity created from that blueprint. Each object contains:\n",
    "Attributes (data/properties): Variables that hold the object’s state.\n",
    "Methods (functions/behaviors): Actions the object can perform, usually defined in its class.\n",
    "\n",
    "4. What is the difference between abstraction and encapsulation?\n",
    "-Abstraction and encapsulation are both fundamental concepts in Object-Oriented Programming (OOP), but they serve distinct purposes:\n",
    "\n",
    "Abstraction\n",
    "Focuses on: What an object does (the essential features visible to the user), not how it does it.\n",
    "Goal: Reduces complexity by exposing only the necessary functionalities and hiding unnecessary internal details.\n",
    "Implementation: Achieved using abstract classes and interfaces, which define what actions are possible without specifying the implementation.\n",
    "Example: In a car, abstraction means you can \"drive\" or \"brake\" without knowing how the engine or transmission works internally.\n",
    "\n",
    "Encapsulation\n",
    "Focuses on: How an object does what it does (the implementation details, internal data, and logic).\n",
    "Goal: Protects and restricts access to the internal state of an object, ensuring data integrity and security.\n",
    "Implementation: Achieved by bundling data (attributes) and methods inside a class and restricting direct access to the data using access modifiers (like private, protected, public) along with getter/setter methods.\n",
    "Example: In a bank account class, sensitive data like balance is private—accessed and modified only through controlled methods.\n",
    "\n",
    "5. What are dunder methods in Python?\n",
    "-Dunder methods in Python are special methods that start and end with double underscores (__method__). The term \"dunder\" stands for \"double underscore.\" These methods are also called magic methods because they enable special behavior and operator overloading in classes, allowing Python objects to interact with built-in functions and operators in customized ways.\n",
    "\n",
    "6. Explain the concept of inheritance in OOP.\n",
    "-Inheritance in Object-Oriented Programming (OOP) is a fundamental mechanism where a new class (called a subclass or child class) is derived from an existing class (called the superclass, parent class, or base class). The subclass inherits the attributes (data) and methods (functions or behaviors) of the parent class, allowing for code reuse and the creation of a hierarchical organization of classes.\n",
    "\n",
    "7. What is polymorphism in OOP?\n",
    "-Polymorphism in Object-Oriented Programming (OOP) is the ability of objects to take on different forms or to behave differently based on their specific class type while sharing the same interface. Essentially, it means that one interface or method can be used in many ways depending on the context, especially on the object’s actual class at runtime.\n",
    "\n",
    "8. How is encapsulation achieved in Python?\n",
    "-Encapsulation in Python is achieved by bundling data (attributes) and methods (functions) inside a class and restricting direct access to some of the object's components to protect the integrity of the data and hide implementation details.\n",
    "Here’s how encapsulation is typically implemented in Python:\n",
    "\n",
    "Access Modifiers:\n",
    "Python uses naming conventions rather than strict access control.\n",
    "Public members (attributes or methods): Declared normally without underscores. Accessible from inside and outside the class.\n",
    "Protected members: Prefixed with a single underscore _. Intended for internal use within the class and its subclasses (conventionally non-public but accessible).\n",
    "Private members: Prefixed with double underscores __. Triggers name mangling that makes the attribute harder to access from outside the class directly, effectively hiding it.\n",
    "Getter and Setter Methods:\n",
    "To safely access and modify private attributes, Python uses getter and setter methods (or property decorators). This allows validation or control logic to be added during attribute access or mutation, ensuring data integrity.\n",
    "\n",
    "9. What is a constructor in Python?\n",
    "-A constructor in Python is a special method that is automatically called when an object of a class is created. Its primary role is to initialize the newly created object's attributes or state. The most commonly used constructor method in Python is __init__().\n",
    "\n",
    "10. What are class and static methods in Python?\n",
    "-In Python, class methods and static methods are two special types of methods that belong to a class rather than an instance of the class. They are defined using specific decorators and have different purposes and behaviors compared to regular instance methods.\n",
    "\n",
    "Class Methods\n",
    "Defined with the @classmethod decorator.\n",
    "Take the class itself as the first parameter, conventionally named cls, instead of the instance (self).\n",
    "Can access and modify class state that applies across all instances of the class.\n",
    "Useful for factory methods that create instances in alternative ways or methods that operate on the class rather than individual objects. \n",
    "Static Methods\n",
    "Defined with the @staticmethod decorator.\n",
    "Do not take either self or cls as the first parameter.\n",
    "Behave like regular functions but belong to the class’s namespace.\n",
    "They neither access instance attributes nor class attributes.\n",
    "Useful for utility functions related to the class’s functionality but that don't need access to the instance or class specifics.\n",
    "\n",
    "11. What is method overloading in Python?\n",
    "-Method overloading in Python refers to the ability to have multiple methods in the same class with the same name but different parameter lists (different number or types of arguments). However, Python does not support traditional method overloading like languages such as Java or C++. If you define multiple methods with the same name, only the last defined method will be used, overriding the earlier ones.\n",
    "\n",
    "12. What is method overriding in OOP?\n",
    "-Method overriding in Object-Oriented Programming (OOP) is a feature where a subclass (child class) provides its own specific implementation of a method that is already defined in its superclass (parent class) with the same method name, parameters (signature), and return type.\n",
    "\n",
    "13. What is a property decorator in Python?\n",
    "-A property decorator in Python, denoted by @property, is a built-in decorator that allows you to define methods in a class that can be accessed like attributes. It essentially turns a method into a managed attribute where you can define controlled access to a value by specifying getter, setter, and deleter behavior behind the scenes without changing how you interact with the attribute.\n",
    "\n",
    "14. Why is polymorphism important in OOP?\n",
    "-Polymorphism is important in Object-Oriented Programming (OOP) because it provides flexibility, code reusability, and extensibility by allowing objects of different classes to be treated through a common interface while executing behavior specific to their actual class. This means the same method or function can behave differently based on the object that calls it.\n",
    "\n",
    "15. What is an abstract class in Python?\n",
    "-An abstract class in Python is a class that serves as a blueprint for other classes and cannot be instantiated directly. It is designed to define methods that must be implemented by its subclasses, ensuring a consistent interface across different implementations. Abstract classes help enforce a certain structure within class hierarchies by requiring child classes to provide specific method implementations.\n",
    "\n",
    "16. What are the advantages of OOP?\n",
    "-The advantages of Object-Oriented Programming (OOP) include:\n",
    "Modularity: OOP divides complex programs into smaller, manageable objects or classes, making the codebase easier to understand, create, and maintain.\n",
    "Reusability: Through inheritance, objects and classes can be reused across programs, reducing code duplication and speeding up development.\n",
    "Encapsulation: By bundling data and methods within objects and restricting direct access, OOP protects data integrity, promotes security, and hides internal details.\n",
    "Flexibility and Scalability: Polymorphism allows objects of different classes to be treated through a common interface with specific behaviors, making it easier to extend and modify systems without rewriting existing code.\n",
    "Improved Code Organization: OOP promotes a clean, hierarchical, and structured approach that enhances collaboration and helps organize code logically.\n",
    "Easier Troubleshooting and Maintenance: Since objects are self-contained, errors can be localized to specific classes or modules, simplifying debugging and updates.\n",
    "Better Problem Solving: OOP models real-world entities naturally, allowing more intuitive and effective solutions by breaking problems into discrete components.\n",
    "Supports Team Development: Multiple developers can work on separate objects or classes concurrently without interference, improving productivity and collaboration. \n",
    " \n",
    "17. What is the difference between a class variable and an instance variable\n",
    "-The difference between a class variable and an instance variable is as follows:\n",
    "Class Variable:\n",
    "A class variable is shared by all instances (objects) of a class.\n",
    "It is declared within the class but outside any instance methods, usually with the static keyword in languages like Java, or simply assigned in the class body in Python.\n",
    "There is only one copy of a class variable, and if it changes, the change is reflected in all instances.\n",
    "Class variables represent properties that are common to all objects of the class.\n",
    "Instance Variable:\n",
    "An instance variable is unique to each instance of the class.\n",
    "It is declared inside methods (usually __init__ in Python) using self and holds data that pertains only to that specific object.\n",
    "Each object has its own copy; changes to one instance variable do not affect others.\n",
    "It represents the object's specific state.\n",
    "\n",
    "18. What is multiple inheritance in Python?\n",
    "-Multiple inheritance in Python is a feature where a single child class inherits attributes and methods from more than one parent (base) class. This allows the child class to combine and reuse functionality from multiple classes.\n",
    "\n",
    "19. Explain the purpose of ‘’__str__’ and ‘__repr__’ ‘ methods in Python.\n",
    "-The __str__ and __repr__ methods in Python are special \"dunder\" (double underscore) methods used to define string representations of objects, but they serve slightly different purposes:\n",
    "__str__ Method:\n",
    "Purpose: To provide a human-readable or informal string representation of an object.\n",
    "When Called: Invoked by the built-in str() function and by the print() function.\n",
    "Usage: Designed to produce a friendly, easy-to-read string for end-users.\n",
    "Example use case: Showing a concise summary of an object's important attributes.\n",
    "If __str__ is not defined, Python falls back to using __repr__.\n",
    "\n",
    "__repr__ Method:\n",
    "Purpose: To provide an unambiguous and developer-oriented string representation of the object.\n",
    "When Called: Invoked by the built-in repr() function and also used in interactive interpreter sessions.\n",
    "Usage: Should ideally return a string that could be used to recreate the object when passed to eval() (if possible), or at least provide detailed information useful for debugging.\n",
    "Example use case: Showing an explicit representation with the information needed to construct the object again.\n",
    "\n",
    "20. What is the significance of the ‘super()’ function in Python?\n",
    "-The significance of the super() function in Python lies in its ability to provide access to methods and properties of a parent (or superclass) from a subclass without explicitly naming the parent class. This simplifies and improves code maintainability, especially in inheritance hierarchies.\n",
    "\n",
    "21. What is the significance of the __del__ method in Python?\n",
    "-The __del__ method in Python is a special \"destructor\" method that is called when an object is about to be destroyed by the garbage collector—that is, when there are no more references to the object. Its main significance lies in allowing you to define cleanup actions that should be executed just before the object is removed from memory.\n",
    "\n",
    "22. What is the difference between @staticmethod and @classmethod in Python?\n",
    "-The key difference between @staticmethod and @classmethod in Python lies in their relationship to the class and how they receive their first argument:\n",
    "@classmethod:\n",
    "Takes the class itself as the first parameter, conventionally named cls.\n",
    "Can access and modify class state that applies across all instances, including class variables and other class methods.\n",
    "Usually used for factory methods or methods that need to operate on the class rather than on individual instances.\n",
    "Can be overridden by subclasses, and cls will refer to the calling subclass.\n",
    "@staticmethod:\n",
    "Does not receive an implicit first argument (neither the instance self nor the class cls).\n",
    "Cannot access or modify class or instance state directly.\n",
    "Acts like a regular function that happens to reside in a class's namespace; used for utility functions logically related to the class.\n",
    "Cannot be overridden in the same polymorphic manner as class methods.\n",
    "\n",
    "23. How does polymorphism work in Python with inheritance?\n",
    "-Polymorphism in Python with inheritance works by allowing child classes to inherit methods and attributes from a parent class and override those methods to provide class-specific behavior. This enables objects of different subclasses to be treated uniformly through their parent class interface while executing subclass-specific implementations.\n",
    "Here's how polymorphism works in Python using inheritance:\n",
    "A parent (base) class defines methods that child classes inherit.\n",
    "Child (derived) classes can override these methods to perform specialized behavior.\n",
    "When you call an overridden method on an object, Python dynamically binds the call to the method of the object's actual class (subclass) at runtime. This is called runtime polymorphism.\n",
    "Because the child classes share the same method signature as the parent, you can treat objects from different subclasses interchangeably and call the same method, which will execute differently depending on the object's class.\n",
    "\n",
    "24. What is method chaining in Python OOP?\n",
    "-Method chaining in Python OOP is a programming technique where multiple methods are called sequentially on the same object in a single line of code. Each method returns the object itself (self), allowing the next method to be called directly on the same instance. This pattern results in more readable, concise, and fluent code.\n",
    "\n",
    "25. What is the purpose of the __call__ method in Python?\n",
    "-The purpose of the __call__ method in Python is to allow an instance of a class to be called as if it were a regular function. When you define the __call__ method in a class, Python lets you use the instance itself with parentheses and arguments (like instance(args)). Internally, this translates to instance.__call__(args).\n",
    "This makes the object callable and enables flexible usage patterns such as:\n",
    "Creating function-like objects that can maintain state over multiple calls.\n",
    "Making objects behave like parameterized functions.\n",
    "Implementing clean and intuitive APIs where the instance itself represents an action or operation that can be triggered."
   ]
  },
  {
   "cell_type": "markdown",
   "id": "e3b742d7-dbae-42d9-b394-c024e021a31b",
   "metadata": {},
   "source": [
    "# 1. Create a parent class Animal with a method speak() that prints a generic message. Create a child class Dog that overrides the speak() method to print \"Bark!\"."
   ]
  },
  {
   "cell_type": "code",
   "execution_count": 4,
   "id": "03658f1d-548a-4bea-8ee0-09e233609721",
   "metadata": {},
   "outputs": [
    {
     "name": "stdout",
     "output_type": "stream",
     "text": [
      "Animal makes a sound.\n",
      "Bark!\n"
     ]
    }
   ],
   "source": [
    "class Animal:\n",
    "    def speak(self):\n",
    "        print(\"Animal makes a sound.\")\n",
    "\n",
    "class Dog(Animal):\n",
    "    def speak(self):\n",
    "        print(\"Bark!\")\n",
    "\n",
    "animal = Animal()\n",
    "animal.speak()   \n",
    "dog = Dog()\n",
    "dog.speak()     \n"
   ]
  },
  {
   "cell_type": "markdown",
   "id": "60360f72-00e0-4016-9ca9-79b495415e4f",
   "metadata": {},
   "source": [
    "# 2. Write a program to create an abstract class Shape with a method area(). Derive classes Circle and Rectangle from it and implement the area() method in both"
   ]
  },
  {
   "cell_type": "code",
   "execution_count": 7,
   "id": "a154cf54-777f-4af5-84d5-1c496cb0a2be",
   "metadata": {},
   "outputs": [
    {
     "name": "stdout",
     "output_type": "stream",
     "text": [
      "Circle area: 78.53981633974483\n",
      "Rectangle area: 24\n"
     ]
    }
   ],
   "source": [
    "from abc import ABC, abstractmethod\n",
    "import math\n",
    "\n",
    "class Shape(ABC):\n",
    "    @abstractmethod\n",
    "    def area(self):\n",
    "        pass\n",
    "\n",
    "class Circle(Shape):\n",
    "    def __init__(self, radius):\n",
    "        self.radius = radius\n",
    "        \n",
    "    def area(self):\n",
    "        return math.pi * self.radius ** 2\n",
    "\n",
    "class Rectangle(Shape):\n",
    "    def __init__(self, width, height):\n",
    "        self.width = width\n",
    "        self.height = height\n",
    "        \n",
    "    def area(self):\n",
    "        return self.width * self.height\n",
    "\n",
    "shapes = [\n",
    "    Circle(5),\n",
    "    Rectangle(4, 6)\n",
    "]\n",
    "\n",
    "for shape in shapes:\n",
    "    print(f\"{shape.__class__.__name__} area: {shape.area()}\")\n"
   ]
  },
  {
   "cell_type": "markdown",
   "id": "a9a27db7-7746-4922-9c3c-2b1cbac8472f",
   "metadata": {},
   "source": [
    "# 3. Implement a multi-level inheritance scenario where a class Vehicle has an attribute type. Derive a class Car and further derive a class ElectricCar that adds a battery attribute."
   ]
  },
  {
   "cell_type": "code",
   "execution_count": 10,
   "id": "105f12c7-bf16-4cbf-9a5f-ec8c2b3f44ea",
   "metadata": {},
   "outputs": [
    {
     "name": "stdout",
     "output_type": "stream",
     "text": [
      "Vehicle type: Four-wheeler\n",
      "Car brand: Tesla\n",
      "Battery capacity: 75 kWh\n"
     ]
    }
   ],
   "source": [
    "class Vehicle:\n",
    "    def __init__(self, vehicle_type):\n",
    "        self.vehicle_type = vehicle_type\n",
    "\n",
    "    def display_type(self):\n",
    "        print(f\"Vehicle type: {self.vehicle_type}\")\n",
    "\n",
    "class Car(Vehicle):\n",
    "    def __init__(self, vehicle_type, brand):\n",
    "        super().__init__(vehicle_type)  \n",
    "        self.brand = brand\n",
    "\n",
    "    def display_brand(self):\n",
    "        print(f\"Car brand: {self.brand}\")\n",
    "\n",
    "class ElectricCar(Car):\n",
    "    def __init__(self, vehicle_type, brand, battery_capacity):\n",
    "        super().__init__(vehicle_type, brand)  \n",
    "        self.battery_capacity = battery_capacity  \n",
    "\n",
    "    def display_battery(self):\n",
    "        print(f\"Battery capacity: {self.battery_capacity} kWh\")\n",
    "\n",
    "e_car = ElectricCar(\"Four-wheeler\", \"Tesla\", 75)\n",
    "\n",
    "e_car.display_type()  \n",
    "e_car.display_brand()    \n",
    "e_car.display_battery()  \n"
   ]
  },
  {
   "cell_type": "markdown",
   "id": "bf99b792-e8fb-4e56-ba53-3181f65beb62",
   "metadata": {},
   "source": [
    "# 4. Demonstrate polymorphism by creating a base class Bird with a method fly(). Create two derived classes Sparrow and Penguin that override the fly() method. "
   ]
  },
  {
   "cell_type": "code",
   "execution_count": 13,
   "id": "124c1c98-5c3d-44b6-a68e-818c32e6e980",
   "metadata": {},
   "outputs": [
    {
     "name": "stdout",
     "output_type": "stream",
     "text": [
      "Sparrow can fly high in the sky.\n",
      "Penguins cannot fly, but can swim well.\n"
     ]
    }
   ],
   "source": [
    "class Bird:\n",
    "    def fly(self):\n",
    "        print(\"Bird is flying...\")\n",
    "\n",
    "class Sparrow(Bird):\n",
    "    def fly(self):\n",
    "        print(\"Sparrow can fly high in the sky.\")\n",
    "\n",
    "class Penguin(Bird):\n",
    "    def fly(self):\n",
    "        print(\"Penguins cannot fly, but can swim well.\")\n",
    "\n",
    "birds = [Sparrow(), Penguin()]\n",
    "\n",
    "for bird in birds:\n",
    "    bird.fly()   "
   ]
  },
  {
   "cell_type": "markdown",
   "id": "3dcd10bc-fd76-41fd-a648-a0ddcebcbd58",
   "metadata": {},
   "source": [
    "# 5. Write a program to demonstrate encapsulation by creating a class BankAccount with private attributes balance and methods to deposit, withdraw, and check balance."
   ]
  },
  {
   "cell_type": "code",
   "execution_count": 16,
   "id": "39ace5bf-1cac-4a9e-b3e8-7bb24e82d9a8",
   "metadata": {},
   "outputs": [
    {
     "name": "stdout",
     "output_type": "stream",
     "text": [
      "Deposited: $200\n",
      "Withdrew: $100\n",
      "Current Balance: 600\n"
     ]
    }
   ],
   "source": [
    "class BankAccount:\n",
    "    def __init__(self, initial_balance=0):\n",
    "        self.__balance = initial_balance \n",
    "\n",
    "    def deposit(self, amount):\n",
    "        if amount > 0:\n",
    "            self.__balance += amount\n",
    "            print(f\"Deposited: ${amount}\")\n",
    "        else:\n",
    "            print(\"Deposit amount must be positive.\")\n",
    "\n",
    "    def withdraw(self, amount):\n",
    "        if 0 < amount <= self.__balance:\n",
    "            self.__balance -= amount\n",
    "            print(f\"Withdrew: ${amount}\")\n",
    "        else:\n",
    "            print(\"Insufficient funds or invalid amount.\")\n",
    "\n",
    "    def get_balance(self):\n",
    "        return self.__balance\n",
    "account = BankAccount(500) \n",
    "\n",
    "account.deposit(200)        \n",
    "account.withdraw(100)       \n",
    "print(\"Current Balance:\", account.get_balance())"
   ]
  },
  {
   "cell_type": "markdown",
   "id": "6f026c25-dac7-4d53-b8fe-7a03966703eb",
   "metadata": {},
   "source": [
    "#  6. Demonstrate runtime polymorphism using a method play() in a base class Instrument. Derive classes Guitar and Piano that implement their own version of play()."
   ]
  },
  {
   "cell_type": "code",
   "execution_count": 19,
   "id": "affb3d46-e105-4c0f-83c0-b414e06d4dee",
   "metadata": {},
   "outputs": [
    {
     "name": "stdout",
     "output_type": "stream",
     "text": [
      "Strumming the guitar 🎸\n",
      "Playing the piano 🎹\n"
     ]
    }
   ],
   "source": [
    "class Instrument:\n",
    "    def play(self):\n",
    "        print(\"Instrument is playing...\")\n",
    "\n",
    "class Guitar(Instrument):\n",
    "    def play(self):\n",
    "        print(\"Strumming the guitar 🎸\")\n",
    "\n",
    "class Piano(Instrument):\n",
    "    def play(self):\n",
    "        print(\"Playing the piano 🎹\")\n",
    "\n",
    "def start_playing(instrument):\n",
    "    instrument.play() \n",
    "\n",
    "guitar = Guitar()\n",
    "piano = Piano()\n",
    "\n",
    "for inst in (guitar, piano):\n",
    "    start_playing(inst)\n"
   ]
  },
  {
   "cell_type": "markdown",
   "id": "7e258040-454a-43ab-97ef-adcb29db1652",
   "metadata": {},
   "source": [
    "#  7. Create a class MathOperations with a class method add_numbers() to add two numbers and a static method subtract_numbers() to subtract two numbers."
   ]
  },
  {
   "cell_type": "code",
   "execution_count": 24,
   "id": "62a6a221-c7f2-4482-9797-18622d8dfb91",
   "metadata": {},
   "outputs": [
    {
     "name": "stdout",
     "output_type": "stream",
     "text": [
      "Sum: 15\n",
      "Difference: 5\n"
     ]
    }
   ],
   "source": [
    "class MathOperations:\n",
    "    @classmethod\n",
    "    def add_numbers(cls, a, b):\n",
    "        return a + b\n",
    " \n",
    "    @staticmethod\n",
    "    def subtract_numbers(a, b):\n",
    "        return a - b\n",
    "\n",
    "sum_result = MathOperations.add_numbers(10, 5)\n",
    "print(\"Sum:\", sum_result) \n",
    "\n",
    "diff_result = MathOperations.subtract_numbers(10, 5)\n",
    "print(\"Difference:\", diff_result) "
   ]
  },
  {
   "cell_type": "markdown",
   "id": "ad175f30-fa0e-490c-8e8f-b33a8b6c9920",
   "metadata": {},
   "source": [
    "#  8. Implement a class Person with a class method to count the total number of persons created.\n"
   ]
  },
  {
   "cell_type": "code",
   "execution_count": 29,
   "id": "9ea5bf03-2173-40f5-af0f-aa634ada9291",
   "metadata": {},
   "outputs": [
    {
     "name": "stdout",
     "output_type": "stream",
     "text": [
      "Total persons created: 3\n"
     ]
    }
   ],
   "source": [
    "class Person:\n",
    "    total_persons = 0\n",
    "\n",
    "    def __init__(self, name):\n",
    "        self.name = name\n",
    "        Person.total_persons += 1\n",
    "    @classmethod\n",
    "    def get_total_persons(cls):\n",
    "        return cls.total_persons\n",
    "\n",
    "p1 = Person(\"Alice\")\n",
    "p2 = Person(\"Bob\")\n",
    "p3 = Person(\"Charlie\")\n",
    "\n",
    "print(\"Total persons created:\", Person.get_total_persons())  "
   ]
  },
  {
   "cell_type": "markdown",
   "id": "84a4a468-3709-44a5-8ad0-bbd4bb11588d",
   "metadata": {},
   "source": [
    "# 9. Write a class Fraction with attributes numerator and denominator. Override the str method to display the fraction as \"numerator/denominator\"."
   ]
  },
  {
   "cell_type": "code",
   "execution_count": 32,
   "id": "eaa3f3f2-ccc7-404f-a75a-587a66c034e6",
   "metadata": {},
   "outputs": [
    {
     "name": "stdout",
     "output_type": "stream",
     "text": [
      "3/4\n",
      "5/8\n"
     ]
    }
   ],
   "source": [
    "class Fraction:\n",
    "    def __init__(self, numerator, denominator):\n",
    "        self.numerator = numerator\n",
    "        self.denominator = denominator\n",
    "\n",
    "    def __str__(self):\n",
    "        return f\"{self.numerator}/{self.denominator}\"\n",
    "\n",
    "frac = Fraction(3, 4)\n",
    "print(frac) \n",
    "\n",
    "frac2 = Fraction(5, 8)\n",
    "print(frac2) \n"
   ]
  },
  {
   "cell_type": "markdown",
   "id": "c2616063-e400-4502-9295-b2c44cd45c48",
   "metadata": {},
   "source": [
    "#  10. Demonstrate operator overloading by creating a class Vector and overriding the add method to add two vectors."
   ]
  },
  {
   "cell_type": "code",
   "execution_count": 35,
   "id": "003ae42e-d904-4e5a-bc3d-e95252099e73",
   "metadata": {},
   "outputs": [
    {
     "name": "stdout",
     "output_type": "stream",
     "text": [
      "v1 + v2 = (5, 12)\n"
     ]
    }
   ],
   "source": [
    "class Vector:\n",
    "    def __init__(self, x, y):\n",
    "        self.x = x\n",
    "        self.y = y\n",
    "    def __add__(self, other):\n",
    "        if isinstance(other, Vector):\n",
    "            return Vector(self.x + other.x, self.y + other.y)\n",
    "        return NotImplemented\n",
    "\n",
    "    def __str__(self):\n",
    "        return f\"({self.x}, {self.y})\"\n",
    "\n",
    "v1 = Vector(2, 5)\n",
    "v2 = Vector(3, 7)\n",
    "v3 = v1 + v2   \n",
    "print(\"v1 + v2 =\", v3)  "
   ]
  },
  {
   "cell_type": "markdown",
   "id": "4482520c-b2aa-4141-9322-ea6b4cce7c09",
   "metadata": {},
   "source": [
    "# 11. Create a class Person with attributes name and age. Add a method greet() that prints \"Hello, my name is {name} and I am {age} years old.\""
   ]
  },
  {
   "cell_type": "code",
   "execution_count": 40,
   "id": "5f0bc9df-e421-45cc-9694-6a19655ebf39",
   "metadata": {},
   "outputs": [
    {
     "name": "stdout",
     "output_type": "stream",
     "text": [
      "Hello, my name is Alice and I am 30 years old.\n",
      "Hello, my name is Bob and I am 25 years old.\n"
     ]
    }
   ],
   "source": [
    "class Person:\n",
    "    def __init__(self, name, age):\n",
    "        self.name = name\n",
    "        self.age = age\n",
    "\n",
    "    def greet(self):\n",
    "        print(f\"Hello, my name is {self.name} and I am {self.age} years old.\")\n",
    "\n",
    "p1 = Person(\"Alice\", 30)\n",
    "p1.greet()\n",
    "\n",
    "p2 = Person(\"Bob\", 25)\n",
    "p2.greet()"
   ]
  },
  {
   "cell_type": "markdown",
   "id": "b7ce45e6-1dcb-405f-8805-4e529dd2fa19",
   "metadata": {},
   "source": [
    "#  12. Implement a class Student with attributes name and grades. Create a method average_grade() to compute the average of the grades."
   ]
  },
  {
   "cell_type": "code",
   "execution_count": 45,
   "id": "4c3ba8db-a41f-47af-843f-228dc1da177e",
   "metadata": {},
   "outputs": [
    {
     "name": "stdout",
     "output_type": "stream",
     "text": [
      "Alice's average grade: 84.33\n",
      "Bob's average grade: 90.00\n"
     ]
    }
   ],
   "source": [
    "class Student:\n",
    "    def __init__(self, name, grades):\n",
    "        self.name = name\n",
    "        self.grades = grades  \n",
    "\n",
    "    def average_grade(self):\n",
    "        if len(self.grades) == 0:\n",
    "            return 0 \n",
    "        return sum(self.grades) / len(self.grades)\n",
    "\n",
    "s1 = Student(\"Alice\", [85, 90, 78])\n",
    "s2 = Student(\"Bob\", [92, 88])\n",
    "\n",
    "print(f\"{s1.name}'s average grade: {s1.average_grade():.2f}\")\n",
    "print(f\"{s2.name}'s average grade: {s2.average_grade():.2f}\")"
   ]
  },
  {
   "cell_type": "markdown",
   "id": "cf97b5a1-7465-40e5-85bb-49995a5de597",
   "metadata": {},
   "source": [
    "# 13. Create a class Rectangle with methods set_dimensions() to set the dimensions and area() to calculate the area."
   ]
  },
  {
   "cell_type": "code",
   "execution_count": 48,
   "id": "5aeef68c-198b-498e-a992-44f56236ac88",
   "metadata": {},
   "outputs": [
    {
     "name": "stdout",
     "output_type": "stream",
     "text": [
      "Area of rectangle: 15\n",
      "Area of rectangle: 28\n"
     ]
    }
   ],
   "source": [
    "class Rectangle:\n",
    "    def __init__(self, width=0, height=0):\n",
    "        self.width = width\n",
    "        self.height = height\n",
    "\n",
    "    def set_dimensions(self, width, height):\n",
    "        \"\"\"Set the width and height of the rectangle.\"\"\"\n",
    "        self.width = width\n",
    "        self.height = height\n",
    "\n",
    "    def area(self):\n",
    "        \"\"\"Calculate and return the area of the rectangle.\"\"\"\n",
    "        return self.width * self.height\n",
    "\n",
    "rect = Rectangle()\n",
    "rect.set_dimensions(5, 3)\n",
    "print(f\"Area of rectangle: {rect.area()}\")  \n",
    "\n",
    "rect2 = Rectangle(7, 4) \n",
    "print(f\"Area of rectangle: {rect2.area()}\")  "
   ]
  },
  {
   "cell_type": "markdown",
   "id": "3211cdac-b702-4860-ac83-d0c3f6259434",
   "metadata": {},
   "source": [
    "# 14. Create a class Employee with a method calculate_salary() that computes the salary based on hours worked and hourly rate. Create a derived class Manager that adds a bonus to the salary."
   ]
  },
  {
   "cell_type": "code",
   "execution_count": 51,
   "id": "66e3a502-8b66-4be9-a5d1-5f4c6771c119",
   "metadata": {},
   "outputs": [
    {
     "name": "stdout",
     "output_type": "stream",
     "text": [
      "Alice's salary: $800\n",
      "Bob's salary (with bonus): $1700\n"
     ]
    }
   ],
   "source": [
    "class Employee:\n",
    "    def __init__(self, name, hours_worked, hourly_rate):\n",
    "        self.name = name\n",
    "        self.hours_worked = hours_worked\n",
    "        self.hourly_rate = hourly_rate\n",
    "\n",
    "    def calculate_salary(self):\n",
    "        \"\"\"Compute salary based on hours worked and hourly rate.\"\"\"\n",
    "        return self.hours_worked * self.hourly_rate\n",
    "\n",
    "class Manager(Employee):\n",
    "    def __init__(self, name, hours_worked, hourly_rate, bonus):\n",
    "        super().__init__(name, hours_worked, hourly_rate)\n",
    "        self.bonus = bonus\n",
    "\n",
    "    def calculate_salary(self):\n",
    "        \"\"\"Compute salary and add bonus.\"\"\"\n",
    "        base_salary = super().calculate_salary()\n",
    "        return base_salary + self.bonus\n",
    "\n",
    "\n",
    "emp = Employee(\"Alice\", 40, 20)       \n",
    "mgr = Manager(\"Bob\", 40, 30, 500)     \n",
    "\n",
    "print(f\"{emp.name}'s salary: ${emp.calculate_salary()}\")\n",
    "print(f\"{mgr.name}'s salary (with bonus): ${mgr.calculate_salary()}\")\n"
   ]
  },
  {
   "cell_type": "markdown",
   "id": "927f0664-fb7f-431d-8892-8a864dd77d81",
   "metadata": {},
   "source": [
    "# 15. Create a class Product with attributes name, price, and quantity. Implement a method total_price() that calculates the total price of the product"
   ]
  },
  {
   "cell_type": "code",
   "execution_count": 54,
   "id": "2d5aeedd-51d1-427e-844f-7358c5405f25",
   "metadata": {},
   "outputs": [
    {
     "name": "stdout",
     "output_type": "stream",
     "text": [
      "Laptop total price: $1600\n",
      "Headphones total price: $250\n"
     ]
    }
   ],
   "source": [
    "class Product:\n",
    "    def __init__(self, name, price, quantity):\n",
    "        self.name = name\n",
    "        self.price = price\n",
    "        self.quantity = quantity\n",
    "\n",
    "    def total_price(self):\n",
    "        \"\"\"Calculate the total price (price × quantity).\"\"\"\n",
    "        return self.price * self.quantity\n",
    "\n",
    "p1 = Product(\"Laptop\", 800, 2)\n",
    "p2 = Product(\"Headphones\", 50, 5)\n",
    "\n",
    "print(f\"{p1.name} total price: ${p1.total_price()}\")\n",
    "print(f\"{p2.name} total price: ${p2.total_price()}\")"
   ]
  },
  {
   "cell_type": "markdown",
   "id": "59acaffe-5e1f-4a8d-bf35-1bdd61b07454",
   "metadata": {},
   "source": [
    "#  16. Create a class Animal with an abstract method sound(). Create two derived classes Cow and Sheep that implement the sound() method."
   ]
  },
  {
   "cell_type": "code",
   "execution_count": 57,
   "id": "fd17db8f-de72-41f1-8475-398f295dfd07",
   "metadata": {},
   "outputs": [
    {
     "name": "stdout",
     "output_type": "stream",
     "text": [
      "Cow sound: Moo\n",
      "Sheep sound: Baa\n"
     ]
    }
   ],
   "source": [
    "from abc import ABC, abstractmethod\n",
    "\n",
    "class Animal(ABC):\n",
    "    @abstractmethod\n",
    "    def sound(self):\n",
    "        \"\"\"Abstract method to be implemented by all subclasses\"\"\"\n",
    "        pass\n",
    "\n",
    "class Cow(Animal):\n",
    "    def sound(self):\n",
    "        return \"Moo\"\n",
    "\n",
    "class Sheep(Animal):\n",
    "    def sound(self):\n",
    "        return \"Baa\"\n",
    "\n",
    "animals = [Cow(), Sheep()]\n",
    "\n",
    "for animal in animals:\n",
    "    print(f\"{animal.__class__.__name__} sound: {animal.sound()}\")"
   ]
  },
  {
   "cell_type": "markdown",
   "id": "549e8105-e1ea-400e-9c0d-07f427cd0835",
   "metadata": {},
   "source": [
    "#  17. Create a class Book with attributes title, author, and year_published. Add a method get_book_info() that returns a formatted string with the book's details."
   ]
  },
  {
   "cell_type": "code",
   "execution_count": 60,
   "id": "a7e2178f-7880-4fa2-8956-874e1f74352d",
   "metadata": {},
   "outputs": [
    {
     "name": "stdout",
     "output_type": "stream",
     "text": [
      "'To Kill a Mockingbird' by Harper Lee, published in 1960\n",
      "'1984' by George Orwell, published in 1949\n"
     ]
    }
   ],
   "source": [
    "class Book:\n",
    "    def __init__(self, title, author, year_published):\n",
    "        self.title = title\n",
    "        self.author = author\n",
    "        self.year_published = year_published\n",
    "\n",
    "    def get_book_info(self):\n",
    "        \"\"\"Return formatted book details.\"\"\"\n",
    "        return f\"'{self.title}' by {self.author}, published in {self.year_published}\"\n",
    "\n",
    "book1 = Book(\"To Kill a Mockingbird\", \"Harper Lee\", 1960)\n",
    "book2 = Book(\"1984\", \"George Orwell\", 1949)\n",
    "\n",
    "print(book1.get_book_info())\n",
    "print(book2.get_book_info())"
   ]
  },
  {
   "cell_type": "markdown",
   "id": "b1677547-b3b1-4b91-a377-6da1d3878e6a",
   "metadata": {},
   "source": [
    "#  18. Create a class House with attributes address and price. Create a derived class Mansion that adds an attribute number_of_rooms."
   ]
  },
  {
   "cell_type": "code",
   "execution_count": 63,
   "id": "6b935fda-2f8b-467b-a376-766c5f68877f",
   "metadata": {},
   "outputs": [
    {
     "name": "stdout",
     "output_type": "stream",
     "text": [
      "House at 123 Main St, priced at $250000\n",
      "House at 1 Luxury Lane, priced at $2500000 with 12 rooms\n"
     ]
    }
   ],
   "source": [
    "class House:\n",
    "    def __init__(self, address, price):\n",
    "        self.address = address\n",
    "        self.price = price\n",
    "\n",
    "    def get_info(self):\n",
    "        return f\"House at {self.address}, priced at ${self.price}\"\n",
    "\n",
    "# Derived class\n",
    "class Mansion(House):\n",
    "    def __init__(self, address, price, number_of_rooms):\n",
    "        super().__init__(address, price) \n",
    "        self.number_of_rooms = number_of_rooms\n",
    "\n",
    "    def get_info(self):\n",
    "        base_info = super().get_info()\n",
    "        return f\"{base_info} with {self.number_of_rooms} rooms\"\n",
    "\n",
    "# Example usage\n",
    "house = House(\"123 Main St\", 250000)\n",
    "print(house.get_info()) \n",
    "\n",
    "mansion = Mansion(\"1 Luxury Lane\", 2500000, 12)\n",
    "print(mansion.get_info())"
   ]
  }
 ],
 "metadata": {
  "kernelspec": {
   "display_name": "Python 3 (ipykernel)",
   "language": "python",
   "name": "python3"
  },
  "language_info": {
   "codemirror_mode": {
    "name": "ipython",
    "version": 3
   },
   "file_extension": ".py",
   "mimetype": "text/x-python",
   "name": "python",
   "nbconvert_exporter": "python",
   "pygments_lexer": "ipython3",
   "version": "3.12.7"
  }
 },
 "nbformat": 4,
 "nbformat_minor": 5
}
